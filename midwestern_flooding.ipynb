{
 "cells": [
  {
   "cell_type": "markdown",
   "metadata": {},
   "source": [
    "# In 2019, large swaths of the Midwestern United States were inundated by floods.\n",
    "\n",
    "![Inland floods in the Midwest - houses partially submerged in brown water](https://media.npr.org/assets/img/2019/03/21/ap_19079767967884-312c5c4cd8f95e7f8614d4740f1f6fcabada7a04-s1100-c50.jpg)\n",
    "\n",
    "> Image source: <a src=https://www.npr.org/2019/03/21/705408364/nebraska-faces-over-1-3-billion-in-flood-losses target=\"_blank\"> National Public Radio - Nebraska faces over 1.3 billion in flood losses.</a>\""
   ]
  },
  {
   "cell_type": "markdown",
   "metadata": {},
   "source": [
    "---\n",
    "---\n",
    "\n",
    "## What impacts did the flooding have?\n",
    "\n",
    "You can consider in the impacts of flooding across several domains, including:\n",
    "  * Loss of life\n",
    "  * Financial loss\n",
    "  * Infrastructure damage\n",
    "  * Ecosystem disturbance\n",
    "\n",
    "Questions:\n",
    "  * Can you think of any other types of impacts these floods might have had? \n",
    "  * Pick two types of impacts. What kind of data would you need to evaluate the extent of the impact?"
   ]
  },
  {
   "cell_type": "markdown",
   "metadata": {},
   "source": [
    "---\n",
    "\n",
    "### Have you or anyone you know experienced a flood?\n",
    "\n",
    "What was that like? What kinds of human impacts did it have? Do you have any photographs?"
   ]
  },
  {
   "cell_type": "markdown",
   "metadata": {},
   "source": [
    "---\n",
    "\n",
    "### Interactive Reporting from the New York Times highlights the impacts of the flooding across the region\n",
    "\n",
    "[![Midwest Flooding Interactive Reporting](image.png)](https://www.nytimes.com/interactive/2019/09/11/us/midwest-flooding.html\")\n",
    "\n",
    "> Source: [The New York Times](https://www.nytimes.com/interactive/2019/09/11/us/midwest-flooding.html)\n",
    "\n",
    "Questions:\n",
    "* What types of impacts did these floods have on the region's people, agriculture, and infrastructure?\n",
    "* Do you notice any issues of equity highlighted in this article? What is an example of a policy measure that could help to mitigate inequity in flood impacts and risk?\n",
    "* What data did the New York Times use to create their images? Include a citation as if you had used these data yourself.\n",
    "* What are the advantages and disadvantages of the data analysis and visualization in this article for conveying the effects of inland flooding?"
   ]
  },
  {
   "cell_type": "markdown",
   "metadata": {},
   "source": [
    "---\n",
    "\n",
    "### Compare the Missouri River before and during flooding at NASA Earth Observatory\n",
    "\n",
    "[![Nebraska inundated by Flooding](image-1.png)](https://earthobservatory.nasa.gov/images/144691/historic-floods-inundate-nebraska)\n",
    "\n",
    "> Source: [NASA Earth Observatory](https://earthobservatory.nasa.gov/images/144691/historic-floods-inundate-nebraska)\n",
    "\n",
    "Questions:\n",
    "  * Describe the satellite images in this article, as if for alt-text or a screen reader.\n",
    "  * Did you learn anything new about the floods in the Earth Observatory images and article?\n",
    "  * What data did NASA use to generate these images? Include a citation as though you were using the data yourself.\n",
    "  * What are some advantages and disadvantages of the data source used by NASA for this purpose?"
   ]
  },
  {
   "cell_type": "markdown",
   "metadata": {},
   "source": [
    "---\n",
    "\n",
    "### Who else has skin in the game? National Flood Service's take\n",
    "\n",
    "[![Blog about the Midwestern 2019 floods from an insurance company's website](image-2.png)](https://nationalfloodservices.com/blog/the-2019-midwestern-floods-the-insidious-damage-of-inland-flooding/)\n",
    "\n",
    "Check out this article about the Midwestern 2019 floods from an insurance company, National Flood Services.\n",
    "\n",
    "Questions:\n",
    "  * How can you tell that this article is from an insurance company instead of journalists or scientists?\n",
    "  * Did you learn anything additional from this article that was not present in the other articles?\n",
    "  * Do you trust this source? Are there parts of the article you trust more than others?\n",
    "  * Obviously there's a potential for bias in this article. What biases might be present in other types of articles or data sources about these floods?"
   ]
  },
  {
   "cell_type": "markdown",
   "metadata": {},
   "source": [
    "---\n",
    "\n",
    "### In situ streamflow measurements in Omaha, NE were much higher than normal throughout 2019, but particularly in March\n",
    "\n",
    "[![Streamflow on the Missouri River at Omaha, NE. Streamflow was much higher throughout 2019 than the previous year](image-4.png)](https://waterdata.usgs.gov/monitoring-location/06610000/#parameterCode%253D00065%2526showMedian%253Dtrue%2526startDT%253D2018-10-01%2526endDT%253D2020-09-30)\n",
    "\n",
    "> Source: [USGS Water Data for the Nation - Monitoring Station on the Missouri River near Omaha, NE](https://waterdata.usgs.gov/monitoring-location/06610000/#parameterCode%253D00065%2526showMedian%253Dtrue%2526startDT%253D2018-10-01%2526endDT%253D2020-09-30)\n",
    "\n",
    "Questions:\n",
    "  * Compare and contrast this in situ information with the remotely sensed images. What are some advantages and disadvantages to these data?\n",
    "  * How can we tell if this level of flooding is \"abnormal\"?"
   ]
  },
  {
   "cell_type": "markdown",
   "metadata": {},
   "source": [
    "---\n",
    "---\n",
    "\n",
    "## What caused the 2019 Midwestern Floods?\n",
    "\n",
    "Questions:\n",
    "  * Did you learn anything about the causes of the flooding in the previous articles?\n",
    "  * What is the difference between proximate and ultimate causation? How does the use of one or the other change the story about this flood?"
   ]
  },
  {
   "cell_type": "markdown",
   "metadata": {},
   "source": [
    "---\n",
    "\n",
    "### Consider the difference between susceptibility, hazard, and risk\n",
    "\n",
    "**Susceptibility:** what aspects of a location make it more vulnerable to flooding when a triggering event like a large storm occurs?\n",
    "**Hazard:** what is the likelihood that a natural disaster will occur? (susceptibility + trigger)\n",
    "**Risk:** what is the likelyhood that a particular level of damage will occur? (susceptibility + trigger + people and infrastructure in the way)\n",
    "\n",
    "Read this [article about guidelines for evaluating susceptibility, hazard, and risk](https://www.sciencedirect.com/science/article/pii/S0013795208001762)\n",
    "\n",
    "Questions:\n",
    "  * What are some ways that risk can be mitigated even if we are unable to reduce susceptibilty or hazard of flood events?"
   ]
  },
  {
   "cell_type": "markdown",
   "metadata": {},
   "source": [
    "---\n",
    "\n",
    "### Climate change is increasing flood hazards, but did it contribute to these floods?\n",
    "\n",
    "[![Image of floods in an article about increased flood hazards](image-5.png)](https://yaleclimateconnections.org/2019/04/did-climate-change-cause-midwest-flooding/)\n",
    "\n",
    "> Source: [Yale Climate Connections](https://yaleclimateconnections.org/2019/04/did-climate-change-cause-midwest-flooding/)\n",
    "\n",
    "Questions:\n",
    "  * What are some ways that we as scientists can evaluate the contribution of climate change to a particular event?"
   ]
  }
 ],
 "metadata": {
  "kernelspec": {
   "display_name": "Python 3",
   "language": "python",
   "name": "python3"
  },
  "language_info": {
   "codemirror_mode": {
    "name": "ipython",
    "version": 3
   },
   "file_extension": ".py",
   "mimetype": "text/x-python",
   "name": "python",
   "nbconvert_exporter": "python",
   "pygments_lexer": "ipython3",
   "version": "3.10.8"
  },
  "orig_nbformat": 4
 },
 "nbformat": 4,
 "nbformat_minor": 2
}
